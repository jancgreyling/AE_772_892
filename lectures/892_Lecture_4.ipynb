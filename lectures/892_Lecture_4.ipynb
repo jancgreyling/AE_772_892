{
 "cells": [
  {
   "cell_type": "markdown",
   "id": "0dd79410",
   "metadata": {},
   "source": [
    "# Week 4: Loops, Functions, Dictionaries and List Comprehension\n",
    "\n",
    "## Load the example data"
   ]
  },
  {
   "cell_type": "code",
   "execution_count": null,
   "id": "093f3fe8",
   "metadata": {},
   "outputs": [],
   "source": [
    "import pandas as pd\n",
    "# Load the example DataFrame\n",
    "df = pd.read_csv('/mnt/data/example_dataframe.csv')"
   ]
  },
  {
   "cell_type": "markdown",
   "id": "c562a9f3",
   "metadata": {},
   "source": [
    "### What are loops, and How Do They Work?\n",
    "\n",
    "A `for` loop is a control flow statement that allows us to execute a block of code multiple times. The basic structure is, note the indentation:\n",
    "\n",
    "```python\n",
    "for element in iterable:\n",
    "    # code to execute\n",
    "```"
   ]
  },
  {
   "cell_type": "markdown",
   "id": "9fd20a3f",
   "metadata": {},
   "source": [
    "**Example 1: Basic For Loop**\n",
    "\n",
    "In this example, we use a basic `for` loop to iterate over the 'Name' column of our DataFrame. Inside the loop, we print a greeting for each name."
   ]
  },
  {
   "cell_type": "code",
   "execution_count": 27,
   "id": "7e4e0fbd",
   "metadata": {},
   "outputs": [
    {
     "name": "stdout",
     "output_type": "stream",
     "text": [
      "These are numbers in a range, 0\n",
      "These are numbers in a range, 1\n",
      "These are numbers in a range, 2\n",
      "These are numbers in a range, 3\n",
      "These are numbers in a range, 4\n",
      "\n",
      "These are numbers in a range, 1\n",
      "These are numbers in a range, 2\n",
      "These are numbers in a range, 3\n",
      "These are numbers in a range, 4\n",
      "\n",
      "These are numbers in a range, 0\n",
      "These are numbers in a range, 2\n",
      "These are numbers in a range, 4\n",
      "These are numbers in a range, 6\n",
      "These are numbers in a range, 8\n"
     ]
    }
   ],
   "source": [
    "for i in range(5):\n",
    "    print(f\"These are numbers in a range, {i}\")\n",
    "print(\"\")\n",
    "for i in range(1,5):\n",
    "    print(f\"These are numbers in a range, {i}\")\n",
    "print(\"\")\n",
    "for i in range(0,10,2):\n",
    "    print(f\"These are numbers in a range, {i}\")\n",
    "\n"
   ]
  },
  {
   "cell_type": "code",
   "execution_count": null,
   "id": "aaea8bcf",
   "metadata": {},
   "outputs": [],
   "source": [
    "# Example of a basic for loop to print names from the dataset\n",
    "for name in example_df['Name']:\n",
    "    print(f\"Hello, {name}!\")"
   ]
  },
  {
   "cell_type": "markdown",
   "id": "11d6af0a",
   "metadata": {},
   "source": [
    "#### Example 2: Nested For Loop\n",
    "\n",
    "In this example, we use a nested `for` loop: the outer loop iterates through names, and the inner loop iterates through each character of the current name. This demonstrates how loops can be nested within each other for more complex operations."
   ]
  },
  {
   "cell_type": "code",
   "execution_count": null,
   "id": "fd9f3be7",
   "metadata": {},
   "outputs": [],
   "source": [
    "# Example of a nested for loop to print each character of each name\n",
    "for name in example_df['Name']:\n",
    "    print(f\"Name: {name}\")\n",
    "    for char in name:\n",
    "        print(f\"  Character: {char}\")"
   ]
  },
  {
   "cell_type": "markdown",
   "id": "609b1ab2",
   "metadata": {},
   "source": [
    "## Introduction to Functions"
   ]
  },
  {
   "cell_type": "markdown",
   "id": "306ba33d",
   "metadata": {},
   "source": [
    "### Basics of Functions"
   ]
  },
  {
   "cell_type": "code",
   "execution_count": null,
   "id": "a1a1fe24",
   "metadata": {},
   "outputs": [],
   "source": [
    "def filter_by_age(df, min_age, max_age):\n",
    "    return df[(df['Age'] >= min_age) & (df['Age'] <= max_age)]\n",
    "\n",
    "# Apply the function to the example dataset\n",
    "filter_by_age(example_df, 30, 40)\n"
   ]
  },
  {
   "cell_type": "markdown",
   "id": "60e1694c",
   "metadata": {},
   "source": [
    "## Introduction to Lambda Functions"
   ]
  },
  {
   "cell_type": "markdown",
   "id": "061f7c89",
   "metadata": {},
   "source": [
    "### Basics of Lambda Functions\n",
    "\n",
    "Lambda functions are often used for quick, inline operations on DataFrames. They are defined using the `lambda` keyword."
   ]
  },
  {
   "cell_type": "markdown",
   "id": "0a386e1d",
   "metadata": {},
   "source": [
    "### How to Use Them"
   ]
  },
  {
   "cell_type": "code",
   "execution_count": null,
   "id": "75a031d1",
   "metadata": {},
   "outputs": [],
   "source": [
    "# Example 1: Using lambda to square the 'Age' column\n",
    "df['Age_squared'] = df['Age'].apply(lambda x: x ** 2)\n",
    "print(df)\n",
    "\n",
    "# Example 2: Using lambda with `filter` to get Names of people older than 30\n",
    "older_than_30 = list(filter(lambda x: x > 30, df['Age']))\n",
    "print(older_than_30)\n",
    "\n",
    "# Example 3: Using lambda to create a new column with length of names\n",
    "df['Name_length'] = df['Name'].apply(lambda x: len(x))\n",
    "print(df)"
   ]
  },
  {
   "cell_type": "markdown",
   "id": "e0ea7835",
   "metadata": {},
   "source": [
    "## Introduction to Dictionaries"
   ]
  },
  {
   "cell_type": "markdown",
   "id": "34696f30",
   "metadata": {},
   "source": [
    "### Basics of Dictionaries\n",
    "\n",
    "\n",
    "In the context of DataFrames, dictionaries are often used for renaming columns, mapping values, and more."
   ]
  },
  {
   "cell_type": "markdown",
   "id": "cb141171",
   "metadata": {},
   "source": [
    "### Creating and Manipulating Dictionaries"
   ]
  },
  {
   "cell_type": "code",
   "execution_count": 28,
   "id": "dbaffbc9",
   "metadata": {},
   "outputs": [
    {
     "ename": "NameError",
     "evalue": "name 'df' is not defined",
     "output_type": "error",
     "traceback": [
      "\u001b[0;31m---------------------------------------------------------------------------\u001b[0m",
      "\u001b[0;31mNameError\u001b[0m                                 Traceback (most recent call last)",
      "Cell \u001b[0;32mIn[28], line 2\u001b[0m\n\u001b[1;32m      1\u001b[0m \u001b[39m# Example 1: Renaming columns using a dictionary\u001b[39;00m\n\u001b[0;32m----> 2\u001b[0m df\u001b[39m.\u001b[39mrename(columns\u001b[39m=\u001b[39m{{\u001b[39m'\u001b[39m\u001b[39mName\u001b[39m\u001b[39m'\u001b[39m: \u001b[39m'\u001b[39m\u001b[39mFull Name\u001b[39m\u001b[39m'\u001b[39m, \u001b[39m'\u001b[39m\u001b[39mAge\u001b[39m\u001b[39m'\u001b[39m: \u001b[39m'\u001b[39m\u001b[39mAge in Years\u001b[39m\u001b[39m'\u001b[39m}}, inplace\u001b[39m=\u001b[39m\u001b[39mTrue\u001b[39;00m)\n\u001b[1;32m      3\u001b[0m \u001b[39mprint\u001b[39m(df)\n\u001b[1;32m      5\u001b[0m \u001b[39m# Example 2: Replacing values using a dictionary\u001b[39;00m\n",
      "\u001b[0;31mNameError\u001b[0m: name 'df' is not defined"
     ]
    }
   ],
   "source": [
    "# Example 1: Renaming columns using a dictionary\n",
    "df.rename(columns={{'Name': 'Full Name', 'Age': 'Age in Years'}}, inplace=True)\n",
    "print(df)\n",
    "\n",
    "# Example 2: Replacing values using a dictionary\n",
    "df['Occupation'].replace({{'Engineer': 'Mechanical Engineer', 'Doctor': 'Physician'}}, inplace=True)\n",
    "print(df)\n",
    "\n",
    "# Sample DataFrame\n",
    "df = pd.DataFrame({'A': [1, 2, 3], 'B': [4, 5, 6]})\n",
    "\n",
    "# Example 3: Aggregating using a dictionary\n",
    "\n",
    "agg_rules = {'A': 'sum', 'B': 'mean'}\n",
    "result = df.agg(agg_rules)\n",
    "print(result)\n"
   ]
  },
  {
   "cell_type": "markdown",
   "id": "9fdc9207",
   "metadata": {},
   "source": [
    "### Dictionary Comprehension"
   ]
  },
  {
   "cell_type": "markdown",
   "id": "7e88d397",
   "metadata": {},
   "source": [
    "## List Comprehension"
   ]
  },
  {
   "cell_type": "markdown",
   "id": "753015f1",
   "metadata": {},
   "source": [
    "### Basics of List Comprehension\n",
    "\n",
    "List comprehensions can be used to create new lists or DataFrame columns in a concise manner.\n"
   ]
  },
  {
   "cell_type": "markdown",
   "id": "e022f49a",
   "metadata": {},
   "source": [
    "### When and How to Use It"
   ]
  },
  {
   "cell_type": "code",
   "execution_count": null,
   "id": "f4bcad31",
   "metadata": {},
   "outputs": [],
   "source": [
    "# Example 1: Creating a new list of names in uppercase\n",
    "upper_names = [name.upper() for name in df['Full Name']]\n",
    "print(upper_names)\n",
    "\n",
    "# Example 2: Creating a new DataFrame column using list comprehension\n",
    "df['Is_Elderly'] = ['Yes' if age > 40 else 'No' for age in df['Age in Years']]\n",
    "print(df)\n",
    "\n",
    "# Example 3: Using list comprehension with multiple conditions\n",
    "df['Life_Stage'] = ['Young' if age < 30 else 'Middle-aged' if age < 50 else 'Old' for age in df['Age in Years']]\n",
    "print(df)"
   ]
  },
  {
   "cell_type": "markdown",
   "id": "7c2c8dc8",
   "metadata": {},
   "source": [
    "## Merging and Joining Data"
   ]
  },
  {
   "cell_type": "markdown",
   "id": "7e554caa",
   "metadata": {},
   "source": [
    "### Basics of Joining Data\n",
    "\n",
    "Pandas provides various ways to combine DataFrames including `.merge()` for database-style joins."
   ]
  },
  {
   "cell_type": "code",
   "execution_count": null,
   "id": "87e58e70",
   "metadata": {},
   "outputs": [],
   "source": [
    "# Example 1: Creating another DataFrame to join with the original\n",
    "data2 = {'Full Name': ['Alice', 'Bob'], 'Salary': [50000, 60000]}\n",
    "df2 = pd.DataFrame(data2)\n",
    "\n",
    "# Merging the two DataFrames on 'Full Name'\n",
    "merged_df = pd.merge(df, df2, on='Full Name')\n",
    "print(merged_df)\n",
    "\n",
    "# Example 2: Left join\n",
    "left_joined_df = pd.merge(df, df2, on='Full Name', how='left')\n",
    "print(left_joined_df)\n",
    "\n",
    "# Example 3: Checking if the join is correct by validating the number of rows and key uniqueness\n",
    "def is_join_correct(df1, df2, key, how='inner'):\n",
    "    joined_df = pd.merge(df1, df2, on=key, how=how)\n",
    "    if how == 'inner':\n",
    "        return len(joined_df) == min(len(df1), len(df2)) and joined_df[key].is_unique\n",
    "    return True\n",
    "\n",
    "print(is_join_correct(df, df2, 'Full Name'))"
   ]
  },
  {
   "cell_type": "markdown",
   "id": "f9b30e72",
   "metadata": {},
   "source": [
    "### Types of Joins"
   ]
  },
  {
   "cell_type": "markdown",
   "id": "1c649033",
   "metadata": {},
   "source": [
    "### Common Mistakes When Joining Data"
   ]
  },
  {
   "cell_type": "code",
   "execution_count": null,
   "id": "cead9ef7",
   "metadata": {},
   "outputs": [],
   "source": [
    "\n",
    "# Example 3: Checking if the join is correct\n",
    "def is_join_correct(df1, df2, key, join_type='inner'):\n",
    "    joined_df = pd.merge(df1, df2, on=key, how=join_type)\n",
    "    if join_type == 'inner':\n",
    "        return len(joined_df) == min(len(df1), len(df2))\n",
    "    elif join_type == 'left':\n",
    "        return len(joined_df) == len(df1)\n",
    "    elif join_type == 'right':\n",
    "        return len(joined_df) == len(df2)\n",
    "    elif join_type == 'outer':\n",
    "        return len(joined_df) >= max(len(df1), len(df2))\n",
    "    return False\n",
    "\n",
    "# Check if the inner join was correct\n",
    "is_join_correct(df, df2, 'Full_Name', 'inner')"
   ]
  }
 ],
 "metadata": {
  "kernelspec": {
   "display_name": "Python 3",
   "language": "python",
   "name": "python3"
  },
  "language_info": {
   "codemirror_mode": {
    "name": "ipython",
    "version": 3
   },
   "file_extension": ".py",
   "mimetype": "text/x-python",
   "name": "python",
   "nbconvert_exporter": "python",
   "pygments_lexer": "ipython3",
   "version": "3.9.17"
  }
 },
 "nbformat": 4,
 "nbformat_minor": 5
}
