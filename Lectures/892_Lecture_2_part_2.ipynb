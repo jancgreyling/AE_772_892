{
 "cells": [
  {
   "cell_type": "markdown",
   "metadata": {},
   "source": [
    "# Week 2: Git Basics, Introduction to Pandas & Python Functions\n",
    "\n",
    "## Part 2: Introduction to Pandas & Python Functions\n"
   ]
  }
 ],
 "metadata": {
  "kernelspec": {
   "display_name": "ag_policy",
   "language": "python",
   "name": "python3"
  },
  "language_info": {
   "codemirror_mode": {
    "name": "ipython",
    "version": 3
   },
   "file_extension": ".py",
   "mimetype": "text/x-python",
   "name": "python",
   "nbconvert_exporter": "python",
   "pygments_lexer": "ipython3",
   "version": "3.9.17"
  },
  "orig_nbformat": 4
 },
 "nbformat": 4,
 "nbformat_minor": 2
}
