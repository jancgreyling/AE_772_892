{
 "cells": [
  {
   "cell_type": "markdown",
   "metadata": {},
   "source": [
    "# Week 2: Git Basics, Introduction to Pandas & Python Functions\n",
    "\n",
    "## Part 2: Introduction to Pandas & Python Functions"
   ]
  },
  {
   "cell_type": "markdown",
   "metadata": {},
   "source": [
    "## Introduction to Pandas\n",
    "\n",
    "Pandas, derived from the term \"panel data,\" is a robust, open-source data analysis library for Python. It provides fast, flexible, and expressive data structures designed to work with both structured (tabular, multidimensional, and potentially heterogeneous) and time series data.\n",
    "\n",
    "### Basics of Pandas: Series and DataFrames\n",
    "\n",
    "- **Series**:\n",
    "  - A one-dimensional labeled array capable of holding any data type.\n",
    "  - It has an index and values.\n",
    "  - Example:\n",
    "    ```python\n",
    "    import pandas as pd\n",
    "    import numpy as np\n",
    "\n",
    "    s = pd.Series([1, 3, 5, np.nan, 6, 8])\n",
    "    print(s)\n",
    "    ```\n",
    "\n",
    "- **DataFrame**:\n",
    "  - A two-dimensional labeled data structure with rows and columns.\n",
    "  - Can be visualized like a spreadsheet or SQL table.\n",
    "  - Columns can be of different types (numeric, string, boolean, etc.).\n",
    "  - Example:\n",
    "    ```python\n",
    "    data = {'name': ['John', 'Anna', 'Lucas'],\n",
    "            'age': [28, 22, 19],\n",
    "            'city': ['New York', 'London', 'Berlin']}\n",
    "    df = pd.DataFrame(data)\n",
    "    print(df)\n",
    "    ```\n"
   ]
  },
  {
   "cell_type": "markdown",
   "metadata": {},
   "source": [
    "\n",
    "### Data Manipulation: Filtering, Sorting, and Grouping\n",
    "\n",
    "- **Filtering**:\n",
    "  - Use conditions to select specific rows.\n",
    "  - Example to filter records where age is greater than 20:\n",
    "    ```python\n",
    "    filtered_data = df[df['age'] > 20]\n",
    "    print(filtered_data)\n",
    "    ```\n",
    "\n",
    "  Let's break down what is happing step by step:\n",
    "\n",
    "    1. **`df['age']`**: This part of the code selects the 'age' column from the DataFrame `df`. The result is a pandas Series containing all the values in the 'Age' column.\n",
    "\n",
    "    2. **`df['age'] > 20`**: This is a conditional operation that's applied to the 'age' Series. It will return another Series of the same length, but instead of ages, it will contain boolean values (`True` or `False`). A value will be `True` if the corresponding age is greater than 20, and `False` otherwise. For example, if `df['age']` contains `[18, 21, 19, 22, 25]`, then `df['age'] > 20` will return `[False, True, False, True, True]`.\n",
    "\n",
    "    3. **`df[...]`**: The outer `df[...]` is used to index (or select) rows from the DataFrame `df`. When you use a boolean Series to index a DataFrame like this, pandas will select all rows that correspond to `True` values in the boolean Series. Using our earlier example, only the rows with ages 21, 22, and 25 will be selected.\n",
    "\n",
    "    4. **`filtered_data = ...`**: The result of the above operations, which is a subset of the original DataFrame with only the rows where age is greater than 20, is then assigned to the variable `filtered_data`.\n",
    "\n",
    "  In essence, the logic of `filtered_data = df[df['age'] > 20]` is: \"From the DataFrame `df`, give me a new DataFrame (`filtered_data`) that only contains rows where the value in the 'Age' column is greater than 20.\"\n",
    "\n",
    "- **Sorting**:\n",
    "  - Arrange data based on the values of specific columns.\n",
    "  - Example for sorting by age:\n",
    "    ```python\n",
    "    sorted_data = df.sort_values(by='age', ascending=False)\n",
    "    print(sorted_data)\n",
    "    ```\n",
    "\n",
    "- **Grouping**:\n",
    "  - Aggregate data based on column values.\n",
    "  - Example to group by city and get the average age:\n",
    "    ```python\n",
    "    grouped_data = df.groupby('city')['age'].mean()\n",
    "    print(grouped_data)\n",
    "    ```\n",
    "  - Note the structure \n",
    "    1. **`df.groupby('city')`**: This groups the DataFrame `df` by the unique values in the 'city' column. The result is a `GroupBy` object which is a special type of pandas object that has similar properties to a DataFrame but represents a collection of groups (or segments) of your data.\n",
    "    2. **`df.groupby('city')['age']`**: This selects the 'age' column from each group. Now, you have a `GroupBy` object that is focused on the 'age' values for each city.\n",
    "    3. **`.mean()`**: This calculates the mean (or average) of the 'age' values for each city.\n",
    "\n",
    "  "
   ]
  },
  {
   "cell_type": "markdown",
   "metadata": {},
   "source": [
    "## Exercise 2: Creating a dataframe\n",
    "\n",
    "Two steps before you start:\n",
    "\n",
    "1. Assuming that you have cloned this repository to your Google Drive, go to Google drive and navigate to the folder `MyDrive/git_projects/AE_772_892/` and open the notebook `Lectures/892_Lecture_2_part_2`.\n",
    "2. Then\n",
    "  - Connect your google drive folder to the notebook\n",
    "  - Set your working directory \n",
    "  - Stash any changes you have made to the repository\n",
    "  - Pull any changes that have been made to the repository\n"
   ]
  },
  {
   "cell_type": "code",
   "execution_count": null,
   "metadata": {
    "vscode": {
     "languageId": "plaintext"
    }
   },
   "outputs": [],
   "source": [
    "from google.colab import drive\n",
    "drive.mount('/content/drive')\n",
    "%cd /content/drive/MyDrive/git_projects/AE_772_892\n",
    "!git stash\n",
    "!git pull"
   ]
  },
  {
   "cell_type": "code",
   "execution_count": null,
   "metadata": {
    "vscode": {
     "languageId": "plaintext"
    }
   },
   "outputs": [],
   "source": [
    "Now do the following in the codeblock below:"
   ]
  },
  {
   "cell_type": "markdown",
   "metadata": {},
   "source": [
    "\n",
    "\n",
    "- Create a dataframe with the following columns for the entire class and call it `df_class` (if you are the only person doing this you can make up the data):\n",
    "  - Name\n",
    "  - Surname\n",
    "  - Age\n",
    "  - Home Province\n",
    "  - Favorite Color\n",
    "  - Favorite Food\n",
    "  - Course target mark\n",
    "- What is the average age of the class?\n",
    "- What is the average age of the class by province?\n",
    "- Filter your dataframe by age and show only students older than 22\n",
    "- Sort your dataframe by target mark in descending order\n",
    "- Group your dataframe by home province and show the average age of students in each home province"
   ]
  },
  {
   "cell_type": "code",
   "execution_count": null,
   "metadata": {
    "vscode": {
     "languageId": "plaintext"
    }
   },
   "outputs": [],
   "source": []
  },
  {
   "cell_type": "markdown",
   "metadata": {},
   "source": [
    "### Reading and Writing Data Using Pandas\n",
    "\n",
    "- **Reading Data**:\n",
    "  - Pandas can read multiple file formats including CSV, Excel, SQL databases, and more.\n",
    "  - Example for reading a CSV file:\n",
    "    ```python\n",
    "    data = pd.read_csv('filename.csv')\n",
    "    print(data.head())  # Display first 5 rows\n",
    "    ```\n",
    "  - note that you must set your working directory correctly and specify the file path if the file is not in the same directory as your notebook. \n",
    "  "
   ]
  },
  {
   "cell_type": "markdown",
   "metadata": {},
   "source": [
    "## Exercise 3: Importing a dataframe\n",
    "\n",
    "Import the possum dataset as a dataframe and call it `df_pos`. Lets answer the following questions together: \n",
    "- How does the data look like - print the first five rows of the dataframe: `print(df_pos.head(5))`\n",
    "- What are the column names? `print(df_pos.columns)`\n",
    "- What are the data types of the columns? `print(df_pos.dtypes)`\n",
    "- What is the structure of the dataframe? `print(df_pos.shape)`\n",
    "- Describe the data - what are the summary statistics of the dataframe? `print(df_pos.describe())`\n",
    "- What is the average age of the possums? `print(df_pos['age'].mean())`\n"
   ]
  },
  {
   "cell_type": "markdown",
   "metadata": {},
   "source": [
    "- **Writing Data**:\n",
    "  - DataFrames can be saved to a variety of file formats.\n",
    "  - Example for writing to an Excel file:\n",
    "    ```python\n",
    "    df.to_excel('output.xlsx', sheet_name='Sheet1', index=False)\n",
    "    ```\n",
    "\n",
    "- **File Formats**:\n",
    "  - Pandas supports a variety of file formats including:\n",
    "    - Text formats such as CSV, JSON, and HTML.\n",
    "    - Binary formats such as Excel, HDF5, and Parquet.\n",
    "    - SQL databases like SQLite, PostgreSQL, and MySQL."
   ]
  }
 ],
 "metadata": {
  "kernelspec": {
   "display_name": "ag_policy",
   "language": "python",
   "name": "python3"
  },
  "language_info": {
   "codemirror_mode": {
    "name": "ipython",
    "version": 3
   },
   "file_extension": ".py",
   "mimetype": "text/x-python",
   "name": "python",
   "nbconvert_exporter": "python",
   "pygments_lexer": "ipython3",
   "version": "3.9.17"
  },
  "orig_nbformat": 4
 },
 "nbformat": 4,
 "nbformat_minor": 2
}
